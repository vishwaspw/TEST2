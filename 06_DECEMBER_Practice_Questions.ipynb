{
 "cells": [
  {
   "cell_type": "raw",
   "id": "8ce31af0-e796-495b-a6fb-df550b2015ce",
   "metadata": {},
   "source": [
    "STRING BASED QUESTIONS"
   ]
  },
  {
   "cell_type": "code",
   "execution_count": null,
   "id": "31256134-0476-4506-a403-1d28ddab0a96",
   "metadata": {},
   "outputs": [],
   "source": [
    "#1\n",
    "a=input(\"Enter the string : \")\n",
    "print(\"THE reversed string is : \",a[::-1])"
   ]
  },
  {
   "cell_type": "code",
   "execution_count": null,
   "id": "d62aa6ed-6430-475e-91bb-e2d540d01233",
   "metadata": {},
   "outputs": [],
   "source": [
    "#2\n",
    "a1=input(\"Enter the string : \")\n",
    "if a1==a1[::-1]:\n",
    "    print(\"The string is palindrome\")\n",
    "else:\n",
    "    print(\"The string is not palindrome\")"
   ]
  },
  {
   "cell_type": "code",
   "execution_count": null,
   "id": "499a3217-a123-4ac0-9cec-27af7a37a187",
   "metadata": {},
   "outputs": [],
   "source": [
    "#3\n",
    "a2=input(\"Enter the string : \")\n",
    "print(a2.upper())"
   ]
  },
  {
   "cell_type": "code",
   "execution_count": null,
   "id": "20b6555d-9626-42b9-ab1a-325d13a05b9d",
   "metadata": {},
   "outputs": [],
   "source": [
    "#4\n",
    "a3=input(\"Enter the string : \")\n",
    "print(a3.lower())"
   ]
  },
  {
   "cell_type": "code",
   "execution_count": null,
   "id": "1d6516ea-c15a-4dfa-92d4-0155a440547f",
   "metadata": {},
   "outputs": [],
   "source": [
    "#5\n",
    "a4=input(\"Enter the string : \")\n",
    "b=\"aeiou\"\n",
    "a4.lower()\n",
    "sum1=0\n",
    "for i in a4:\n",
    "    if i in b:\n",
    "        sum1+=1\n",
    "print(\"The number of vowels in string is \",sum1) "
   ]
  },
  {
   "cell_type": "code",
   "execution_count": null,
   "id": "94b15e1c-2569-430d-86a5-237a8c6522f6",
   "metadata": {},
   "outputs": [],
   "source": [
    "#6\n",
    "a5=input(\"Enter the string : \")\n",
    "b=\"aeiou\"\n",
    "a5.lower()\n",
    "sum1=0\n",
    "for i in a5:\n",
    "    if i in b:\n",
    "        sum1+=1\n",
    "sum2=len(a5)-sum1\n",
    "print(\"The number of consonants in string is \",sum2) "
   ]
  },
  {
   "cell_type": "code",
   "execution_count": null,
   "id": "f0c47784-5eee-4371-acc4-fe4302e78e44",
   "metadata": {},
   "outputs": [],
   "source": [
    "#7\n",
    "a=input(\"Enter the string : \")\n",
    "for i in a:\n",
    "    if(i!=\" \"):\n",
    "        print(i,end=\"\")"
   ]
  },
  {
   "cell_type": "code",
   "execution_count": null,
   "id": "6caf5a66-76c4-4381-9ba2-74e15b144f3e",
   "metadata": {},
   "outputs": [],
   "source": [
    "#8\n",
    "a=input(\"Enter the string : \")\n",
    "sum1=0\n",
    "for i in a:\n",
    "    sum1+=1\n",
    "print(\"The length of string is \",sum1)"
   ]
  },
  {
   "cell_type": "code",
   "execution_count": null,
   "id": "9c2a4c24-f9f1-46fb-9af3-fe11946c7855",
   "metadata": {},
   "outputs": [],
   "source": [
    "#9\n",
    "a=input(\"Enter the string : \")\n",
    "b=input(\"Enter the specific word : \")\n",
    "l=a.split(\" \")\n",
    "if b in l:\n",
    "    print(b,\"is present in\",a)"
   ]
  },
  {
   "cell_type": "code",
   "execution_count": null,
   "id": "67ac639d-a35c-4ddd-a937-6502c3315e4d",
   "metadata": {},
   "outputs": [],
   "source": [
    "#10\n",
    "string = input(\"Enter a sentence: \")\n",
    "ow = input(\"Enter the word to be replaced: \")\n",
    "nw = input(\"Enter the new word: \")\n",
    "ms = string.replace(ow,nw)\n",
    "print(\"Modified string:\", ms)"
   ]
  },
  {
   "cell_type": "code",
   "execution_count": null,
   "id": "0b22ee76-7507-4179-b065-465d7bea96ce",
   "metadata": {},
   "outputs": [],
   "source": [
    "#11\n",
    "a=input(\"Enter the sentence : \")\n",
    "w=input(\"Enter the word : \")\n",
    "b=a.count(w)\n",
    "print(b)"
   ]
  },
  {
   "cell_type": "code",
   "execution_count": null,
   "id": "3c346ba8-9fa7-4072-a475-c52ccd19e337",
   "metadata": {},
   "outputs": [],
   "source": [
    "#12\n",
    "a=input(\"Enter the sentence : \")\n",
    "w=input(\"Enter the word : \")\n",
    "for i in a:\n",
    "    if(w==i):\n",
    "        break\n",
    "print(a.index(i))"
   ]
  },
  {
   "cell_type": "code",
   "execution_count": null,
   "id": "023a55ff-e9d8-4706-8d2e-12d4d4d1e74a",
   "metadata": {},
   "outputs": [],
   "source": [
    "# 13\n",
    "a=input(\"Enter the sentence : \")\n",
    "w=input(\"Enter the word : \")"
   ]
  },
  {
   "cell_type": "code",
   "execution_count": null,
   "id": "a07ec195-2a40-4776-a67c-91023625113d",
   "metadata": {},
   "outputs": [],
   "source": [
    "#14\n",
    "a=input(\"Enter the sentence : \")\n",
    "b=a.split(\" \")\n",
    "print(b)"
   ]
  },
  {
   "cell_type": "code",
   "execution_count": null,
   "id": "bdb91747-567e-4e58-bee9-a6ac6cd15552",
   "metadata": {},
   "outputs": [],
   "source": [
    "#15\n",
    "b=['hello', 'world', 'how', 'are', 'you']\n",
    "print(\" \".join(b))"
   ]
  },
  {
   "cell_type": "code",
   "execution_count": null,
   "id": "8acb7ab2-b02b-4ff9-a3c9-5a248faaf665",
   "metadata": {},
   "outputs": [],
   "source": [
    "#16\n",
    "a=input(\"Enter the sentence : \")\n",
    "b=a.replace(\" \",\"_\")\n",
    "print(b)"
   ]
  },
  {
   "cell_type": "code",
   "execution_count": null,
   "id": "943b1ddc-2445-475b-be61-73be90cdde47",
   "metadata": {},
   "outputs": [],
   "source": [
    "#17\n",
    "a=input(\"Enter the sentence : \")\n",
    "w=input(\"Enter the word : \")\n",
    "print(a.startswith(w))"
   ]
  },
  {
   "cell_type": "code",
   "execution_count": null,
   "id": "78359d1a-dfcd-40b9-993a-f3c636c1e8cd",
   "metadata": {},
   "outputs": [],
   "source": [
    "#18\n",
    "a=input(\"Enter the sentence : \")\n",
    "w=input(\"Enter the word : \")\n",
    "print(a.endswith(w))"
   ]
  },
  {
   "cell_type": "code",
   "execution_count": null,
   "id": "7fce95e7-5e60-4309-9dad-a95bbf2df237",
   "metadata": {},
   "outputs": [],
   "source": [
    "#19\n",
    "a=input(\"Enter the sentence : \")\n",
    "b=a.title()\n",
    "print(b)"
   ]
  },
  {
   "cell_type": "code",
   "execution_count": null,
   "id": "69df2e00-53bf-49d1-ba71-aeb14e2c4b1d",
   "metadata": {},
   "outputs": [],
   "source": [
    "#20\n",
    "a=input(\"Enter the sentence : \")\n",
    "b=a.split(\" \")\n",
    "a=b[0]\n",
    "for i in b:\n",
    "    if(len(i)>len(a)):\n",
    "        a=i\n",
    "print(a)"
   ]
  },
  {
   "cell_type": "code",
   "execution_count": null,
   "id": "91318a1b-3498-4d39-a2c7-428c156b8789",
   "metadata": {},
   "outputs": [],
   "source": [
    "#21\n",
    "a=input(\"Enter the sentence : \")\n",
    "b=a.split(\" \")\n",
    "a=b[0]\n",
    "for i in b:\n",
    "    if(len(i)<len(a)):\n",
    "        a=i\n",
    "print(a)"
   ]
  },
  {
   "cell_type": "code",
   "execution_count": null,
   "id": "56557a71-384a-4033-aaf8-d26dbb0628f7",
   "metadata": {},
   "outputs": [],
   "source": [
    "#22\n",
    "a=input(\"Enter the sentence : \")\n",
    "b=a.split(\" \")\n",
    "c=b[::-1]\n",
    "print(\" \".join(c))"
   ]
  },
  {
   "cell_type": "code",
   "execution_count": null,
   "id": "3f080f03-13f7-4efb-9711-aa311ee21514",
   "metadata": {},
   "outputs": [],
   "source": [
    "#23\n",
    "a=input(\"Enter the sentence : \")\n",
    "print(a.isalnum())"
   ]
  },
  {
   "cell_type": "code",
   "execution_count": null,
   "id": "7f4b5227-500b-4c89-81f5-30d4af953037",
   "metadata": {},
   "outputs": [],
   "source": [
    "#24\n",
    "a=input(\"Enter the sentence : \")\n",
    "for i in a:\n",
    "    if i.isdigit():\n",
    "        print(i,end=\" \")"
   ]
  },
  {
   "cell_type": "code",
   "execution_count": null,
   "id": "8a7a7fb2-44b1-4b50-b3dc-0b219de69977",
   "metadata": {},
   "outputs": [],
   "source": [
    "#25\n",
    "a=input(\"Enter the sentence : \")\n",
    "for i in a:\n",
    "    if i.isalpha():\n",
    "        print(i,end=\" \")"
   ]
  },
  {
   "cell_type": "code",
   "execution_count": null,
   "id": "5eb64226-f704-4034-b13b-0f7d5f2b631b",
   "metadata": {},
   "outputs": [],
   "source": [
    "#26\n",
    "a=input(\"Enter the sentence : \")\n",
    "c=0\n",
    "for i in a:\n",
    "    if i.isupper():\n",
    "        c+=1\n",
    "print(c)"
   ]
  },
  {
   "cell_type": "code",
   "execution_count": null,
   "id": "904340ad-3581-4a23-a745-be307399f55e",
   "metadata": {},
   "outputs": [],
   "source": [
    "#27\n",
    "a=input(\"Enter the sentence : \")\n",
    "c=0\n",
    "for i in a:\n",
    "    if i.islower():\n",
    "        c+=1\n",
    "print(c)"
   ]
  },
  {
   "cell_type": "code",
   "execution_count": null,
   "id": "89a22a86-d5b1-4d1a-817b-4017abfde814",
   "metadata": {},
   "outputs": [],
   "source": [
    "#28\n",
    "a=input(\"Enter the sentence : \")\n",
    "print(a.swapcase())"
   ]
  },
  {
   "cell_type": "code",
   "execution_count": null,
   "id": "4070fedc-bc94-4ad2-a21b-6d4e7c54bee2",
   "metadata": {},
   "outputs": [],
   "source": [
    "#29\n",
    "a=input(\"Enter the sentence : \")\n",
    "w=input(\"Enter the word : \")\n",
    "print(a.replace(w,\"\"))"
   ]
  },
  {
   "cell_type": "code",
   "execution_count": null,
   "id": "16848f08-5301-4577-a235-f6fa52e956dc",
   "metadata": {},
   "outputs": [],
   "source": [
    "#30\n",
    "a=input(\"Enter the email : \")\n",
    "b=a.split(\"@\")[0]\n",
    "if b.isalnum :\n",
    "    print(\"The given email address is valid\")"
   ]
  },
  {
   "cell_type": "code",
   "execution_count": null,
   "id": "3a09850e-4eab-4faa-875d-05f04ade8fc2",
   "metadata": {},
   "outputs": [],
   "source": [
    "#31\n",
    "email = input(\"Enter the email : \")\n",
    "username = email.split('@')[0]\n",
    "print(username)"
   ]
  },
  {
   "cell_type": "code",
   "execution_count": null,
   "id": "b20aa00b-215f-417f-b06c-5b66b3ad0430",
   "metadata": {},
   "outputs": [],
   "source": [
    "#32\n",
    "email = input(\"Enter the email : \")\n",
    "domain = email.split('@')[1]\n",
    "print(domain)"
   ]
  },
  {
   "cell_type": "code",
   "execution_count": null,
   "id": "7bb9c4d6-e387-4a32-be78-33e353bc6197",
   "metadata": {},
   "outputs": [],
   "source": [
    "#33\n",
    "sentence = input(\"Enter the sentence : \")\n",
    "print(\" \".join(sentence.split()))"
   ]
  },
  {
   "cell_type": "code",
   "execution_count": null,
   "id": "d359e64d-8847-42ad-98f0-ed2fe93b7d32",
   "metadata": {},
   "outputs": [],
   "source": [
    "#34\n",
    "url = input(\"Enter the url : \")\n",
    "is_valid_url = url.startswith(\"http://\") \n",
    "print(is_valid_url)"
   ]
  },
  {
   "cell_type": "code",
   "execution_count": null,
   "id": "b55cbbd5-e27c-4054-b526-df702fd77ca4",
   "metadata": {},
   "outputs": [],
   "source": [
    "#35\n",
    "url = input(\"Enter the url : \")\n",
    "protocol = url.split('://')[0]\n",
    "print(protocol)\n"
   ]
  },
  {
   "cell_type": "code",
   "execution_count": null,
   "id": "d0498a3b-512b-46ea-8579-f14635792c83",
   "metadata": {},
   "outputs": [],
   "source": [
    "#36\n",
    "sentence=input(\"Enter the sentence : \")\n",
    "for i in sentence:\n",
    "    if i.isalpha():\n",
    "        print(i,sentence.count(\"i\"))"
   ]
  },
  {
   "cell_type": "code",
   "execution_count": null,
   "id": "5a4bccc4-637b-46ed-8e41-b7710a947e03",
   "metadata": {},
   "outputs": [],
   "source": [
    "#37\n",
    "import string\n",
    "a=input(\"Enter the string : \")\n",
    "for i in a:\n",
    "    if i not in string.punctuation:\n",
    "        print(i,end='')"
   ]
  },
  {
   "cell_type": "code",
   "execution_count": null,
   "id": "9afbf3c1-6685-4445-87b8-f7c3d770ae79",
   "metadata": {},
   "outputs": [],
   "source": [
    "#38 \n",
    "a=input(\"Enter the string : \")\n",
    "if a.isdigit():\n",
    "    print(a,\"contains only digits\")"
   ]
  },
  {
   "cell_type": "code",
   "execution_count": null,
   "id": "d8b55519-263f-42ef-8583-698eb0817412",
   "metadata": {},
   "outputs": [],
   "source": [
    "#39\n",
    "a=input(\"Enter the string : \")\n",
    "if a.isalpha():\n",
    "    print(a,\"contains only alphabets\")"
   ]
  },
  {
   "cell_type": "code",
   "execution_count": null,
   "id": "7890284a-c8ba-4118-947d-3a232d6e6e2c",
   "metadata": {},
   "outputs": [],
   "source": [
    "#40\n",
    "a=input(\"Enter the string : \")\n",
    "print(list(a))"
   ]
  },
  {
   "cell_type": "code",
   "execution_count": null,
   "id": "efb7843f-0293-485d-9404-ce361a496bcb",
   "metadata": {},
   "outputs": [],
   "source": [
    "#41\n",
    "a=input(\"Enter the string a : \")\n",
    "b=input(\"Enter the string b : \")\n",
    "c=sorted(list(a))\n",
    "d=sorted(list(b))\n",
    "if c==d:\n",
    "       print(a,b,\"are anagrams\")"
   ]
  },
  {
   "cell_type": "code",
   "execution_count": null,
   "id": "8e69463e-7e13-4f86-b3ad-cd01f54f86e5",
   "metadata": {},
   "outputs": [],
   "source": [
    "#42\n",
    "sentence=input(\"Enter the sentence : \")\n",
    "shift=int(input(\"Enter the shift\"))\n",
    "encrypted_text = \"\"\n",
    "for char in sentence:\n",
    "    if char.isalpha():\n",
    "        # Shift only alphabetical characters\n",
    "        shifted_char = chr((ord(char) - 65 + shift) % 26 + 65) if char.isupper() else chr((ord(char) - 97 + shift) % 26 + 97)\n",
    "        encrypted_text += shifted_char\n",
    "    else:\n",
    "        # Keep non-alphabetic characters unchanged\n",
    "        encrypted_text += char\n",
    "\n",
    "print(\"Encrypted text:\", encrypted_text)"
   ]
  },
  {
   "cell_type": "code",
   "execution_count": null,
   "id": "a4347aa0-a70e-40fc-9b78-9d0867a14564",
   "metadata": {},
   "outputs": [],
   "source": [
    "# 43\n",
    "sentence=input(\"Enter the sentence : \")\n",
    "shift=int(input(\"Enter the shift\"))\n",
    "encrypted_text = \"\"\n",
    "for char in sentence:\n",
    "    if char.isalpha():\n",
    "        # Shift only alphabetical characters\n",
    "        shifted_char = chr((ord(char) - 65 - shift) % 26 + 65) if char.isupper() else chr((ord(char) - 97 - shift) % 26 + 97)\n",
    "        encrypted_text += shifted_char\n",
    "    else:\n",
    "        # Keep non-alphabetic characters unchanged\n",
    "        encrypted_text += char\n",
    "\n",
    "print(\"Encrypted text:\", encrypted_text)"
   ]
  },
  {
   "cell_type": "code",
   "execution_count": null,
   "id": "e6f0fd7b-9bf9-40e9-8030-fafceb0b0bd2",
   "metadata": {},
   "outputs": [],
   "source": [
    "#44\n",
    "a=input(\"Enter the sentence : \")\n",
    "l=a.split(\" \")\n",
    "b=set(l)\n",
    "count,a=0,\"\"\n",
    "for i in b:\n",
    "    if l.count(\"i\")>count:\n",
    "        count=l.count(\"i\")\n",
    "        a=i\n",
    "print(i)"
   ]
  },
  {
   "cell_type": "code",
   "execution_count": null,
   "id": "efadc208-f6cd-48c5-a41e-b0b6ad8200f0",
   "metadata": {},
   "outputs": [],
   "source": [
    "# 45\n",
    "a=input(\"Enter the sentence : \")\n",
    "l=a.split()\n",
    "b=set(l)\n",
    "print(l,b)\n",
    "for i in b:\n",
    "    if l.count(i)==1:\n",
    "        print(i,end=\" \")"
   ]
  },
  {
   "cell_type": "code",
   "execution_count": null,
   "id": "e8ff2b49-037f-4eb3-a1a8-9a47e88dc9f7",
   "metadata": {},
   "outputs": [],
   "source": [
    "#46\n",
    "def count_syllables(word):\n",
    "    vowels = \"aeiouAEIOU\"\n",
    "    count = 0\n",
    "    for char in word:\n",
    "        if char in vowels:\n",
    "            count += 1\n",
    "    return count\n",
    "\n",
    "string = input(\"Enter the string\")\n",
    "words = string.split()\n",
    "syllable_count = sum(count_syllables(word) for word in words)\n",
    "print(syllable_count)"
   ]
  },
  {
   "cell_type": "code",
   "execution_count": null,
   "id": "04420f78-0ac0-40d4-8865-b29ca2bf8f70",
   "metadata": {},
   "outputs": [],
   "source": [
    "# 47\n",
    "a=input(\"Enter the string a : \")\n",
    "if a.isalnum():\n",
    "    print(a,\"has no special characters\")\n",
    "else:\n",
    "    print(a,\"has special characters\")"
   ]
  },
  {
   "cell_type": "code",
   "execution_count": null,
   "id": "441c57d7-fa67-46f7-81c9-0943036431a1",
   "metadata": {},
   "outputs": [],
   "source": [
    "# 48\n",
    "a=input(\"Enter the sentence : \")\n",
    "l=a.split()\n",
    "n=int(input(\"Enter the nth position\"))\n",
    "#as indexing starts from 0 so while removing we will keep it as n-1\n",
    "l.pop(n-1)\n",
    "print(\" \".join(l))"
   ]
  },
  {
   "cell_type": "code",
   "execution_count": null,
   "id": "970a1221-cebb-47b2-988b-680e6f9cde1d",
   "metadata": {},
   "outputs": [],
   "source": [
    "# 49\n",
    "a=input(\"Enter the sentence : \")\n",
    "l=a.split()\n",
    "n=int(input(\"Enter the nth position\"))\n",
    "w=input(\"Enter the word\")\n",
    "#as indexing starts from 0 so while removing we will keep it as n-1\n",
    "l.insert(w,n)\n",
    "print(\" \".join(l))"
   ]
  },
  {
   "cell_type": "code",
   "execution_count": null,
   "id": "402b0756-878b-4236-a356-60948ddcd4b5",
   "metadata": {},
   "outputs": [],
   "source": [
    "# 50\n",
    "csv_string = \"a,b,c\\n2,3,4\\nx,y,z\"\n",
    "csv_rows = csv_string.split(\"\\n\")\n",
    "csv_list = [row.split(\",\") for row in csv_rows]\n",
    "print(csv_list)"
   ]
  },
  {
   "cell_type": "markdown",
   "id": "90775aed-a24d-47ea-b76a-5323645bcac5",
   "metadata": {},
   "source": [
    "LIST BASED QUESTIONS"
   ]
  },
  {
   "cell_type": "code",
   "execution_count": null,
   "id": "dd168343-4f8c-4345-840e-eeba39b15b34",
   "metadata": {},
   "outputs": [],
   "source": [
    "# 1\n",
    "l=[]\n",
    "for i in range(1,11):\n",
    "    l.append(i)\n",
    "print(l)"
   ]
  },
  {
   "cell_type": "code",
   "execution_count": null,
   "id": "2640045e-aee7-4e00-98f2-bcd19799333a",
   "metadata": {},
   "outputs": [],
   "source": [
    "# 2\n",
    "l=[1, 2, 3, 4, 5, 6, 7, 8, 9, 10]\n",
    "list_length = 0\n",
    "for i in l:\n",
    "    list_length += 1\n",
    "print(\"Length of the list:\", list_length)\n"
   ]
  },
  {
   "cell_type": "code",
   "execution_count": null,
   "id": "9d915821-079f-496a-ae35-98df332562d0",
   "metadata": {},
   "outputs": [],
   "source": [
    "# 3\n",
    "l=[1, 2, 3, 4, 5, 6, 7, 8, 9, 10]\n",
    "l.append(11)\n",
    "print(\"List after appending 11:\", l)\n"
   ]
  },
  {
   "cell_type": "code",
   "execution_count": null,
   "id": "c03006da-3130-4fb5-b51b-6bb23552750c",
   "metadata": {},
   "outputs": [],
   "source": [
    "# 4\n",
    "l=[1, 2, 3, 4, 5, 6, 7, 8, 9, 10]\n",
    "l.insert(3, 99)  # Insert 99 at index 3\n",
    "print(\"List after inserting 99 at index 3:\", l)\n"
   ]
  },
  {
   "cell_type": "code",
   "execution_count": null,
   "id": "443efb64-fd3a-42a0-981a-97708c8d26f7",
   "metadata": {},
   "outputs": [],
   "source": [
    "# 5\n",
    "l=[1, 2, 3, 4, 5, 6, 7, 8, 9, 10]\n",
    "l.remove(7)  # Remove element 7 from the list\n",
    "print(\"List after removing element 7:\", l)\n"
   ]
  },
  {
   "cell_type": "code",
   "execution_count": null,
   "id": "68b1b5d5-4fd5-42fb-b7d1-8f9ce93e10e6",
   "metadata": {},
   "outputs": [],
   "source": [
    "# 6\n",
    "l=[1, 2, 3, 4, 5, 6, 7, 8, 9, 10]\n",
    "del l[2]  # Remove element at index 2\n",
    "print(\"List after removing element at index 2:\", l)"
   ]
  },
  {
   "cell_type": "code",
   "execution_count": null,
   "id": "c09932f7-84a2-4c11-a856-5970ed805c79",
   "metadata": {},
   "outputs": [],
   "source": [
    "# 7\n",
    "l=[1, 2, 3, 4, 5, 6, 7, 8, 9, 10]\n",
    "element_to_check = 5\n",
    "if element_to_check in l:\n",
    "    print(f\"{element_to_check} exists in the list.\")\n",
    "else:\n",
    "    print(f\"{element_to_check} does not exist in the list.\")\n"
   ]
  },
  {
   "cell_type": "code",
   "execution_count": null,
   "id": "c40eb783-f285-4f22-8a0e-1596eb73dd2f",
   "metadata": {},
   "outputs": [],
   "source": [
    "# 8\n",
    "l=[1, 2, 3, 4, 5, 6, 7, 8, 9, 10]\n",
    "index = l.index(4)  # Find the index of element 4\n",
    "print(\"Index of first occurrence of 4:\", index)\n"
   ]
  },
  {
   "cell_type": "code",
   "execution_count": null,
   "id": "99c5cbc5-8a23-4aec-8c94-b7b884241260",
   "metadata": {},
   "outputs": [],
   "source": [
    "# 9\n",
    "l=[1, 2, 3, 4, 5, 6, 7, 8, 9, 10]\n",
    "count = l.count(5)  # Count occurrences of element 5\n",
    "print(\"Number of occurrences of 5:\", count)\n"
   ]
  },
  {
   "cell_type": "code",
   "execution_count": null,
   "id": "e14c8514-4623-4434-bbf1-d5957f6d19d6",
   "metadata": {},
   "outputs": [],
   "source": [
    "# 10\n",
    "l=[1, 2, 3, 4, 5, 6, 7, 8, 9, 10]\n",
    "l.reverse()\n",
    "print(\"Reversed list:\", l)\n"
   ]
  },
  {
   "cell_type": "code",
   "execution_count": null,
   "id": "014c0589-9484-45e1-b747-993e74c3e2ff",
   "metadata": {},
   "outputs": [],
   "source": [
    "# 11\n",
    "l=[1, 2, 3, 4, 5, 6, 7, 8, 9, 10]\n",
    "l.sort()\n",
    "print(\"Sorted list in ascending order:\", l)\n"
   ]
  },
  {
   "cell_type": "code",
   "execution_count": null,
   "id": "eb356baf-cd4d-4c56-b860-51fd9bf455e9",
   "metadata": {},
   "outputs": [],
   "source": [
    "# 12\n",
    "l=[1, 2, 3, 4, 5, 6, 7, 8, 9, 10]\n",
    "l.sort(reverse=True)\n",
    "print(\"Sorted list in descending order:\", l)\n"
   ]
  },
  {
   "cell_type": "code",
   "execution_count": null,
   "id": "8b7e655f-602e-4530-9bc8-906291123db8",
   "metadata": {},
   "outputs": [],
   "source": [
    "# 13\n",
    "even_numbers = [num for num in range(1, 21) if num % 2 == 0]\n",
    "print(\"List of even numbers from 1 to 20:\", even_numbers)\n"
   ]
  },
  {
   "cell_type": "code",
   "execution_count": null,
   "id": "4539af7a-4111-4625-a9ac-070cc022caa0",
   "metadata": {},
   "outputs": [],
   "source": [
    "# 14\n",
    "odd_numbers = [num for num in range(1, 21) if num % 2 != 0]\n",
    "print(\"List of even numbers from 1 to 20:\", odd_numbers)\n"
   ]
  },
  {
   "cell_type": "code",
   "execution_count": null,
   "id": "297f0121-153a-4800-87c0-d10c1db52d7c",
   "metadata": {},
   "outputs": [],
   "source": [
    "# 15\n",
    "l=[1, 2, 3, 4, 5, 6, 7, 8, 9, 10]"
   ]
  },
  {
   "cell_type": "code",
   "execution_count": null,
   "id": "1dba8d30-c8e0-453a-be2c-6011e89dd1b6",
   "metadata": {},
   "outputs": [],
   "source": [
    "# 16\n",
    "l=[1, 2, 3, 4, 5, 6, 7, 8, 9, 10]\n"
   ]
  },
  {
   "cell_type": "code",
   "execution_count": null,
   "id": "8eca8ddc-e77a-4f1c-80fc-3650c534e356",
   "metadata": {},
   "outputs": [],
   "source": [
    "# 17\n",
    "l=[1, 2, 3, 4, 5, 6, 7, 8, 9, 10]"
   ]
  },
  {
   "cell_type": "code",
   "execution_count": null,
   "id": "640a4215-930e-45c8-9e96-99ba767104fa",
   "metadata": {},
   "outputs": [],
   "source": [
    "# 18\n",
    "squares = [num ** 2 for num in range(1, 11)]\n",
    "print(\"List of squares of numbers from 1 to 10:\", squares)\n"
   ]
  },
  {
   "cell_type": "code",
   "execution_count": null,
   "id": "6aa71bc9-168f-4969-a0cb-8eec9bebce6c",
   "metadata": {},
   "outputs": [],
   "source": [
    "# 19\n",
    "import random\n",
    "random_numbers = [random.randint(1, 100) for _ in range(10)]  # Generates 10 random numbers between 1 and 100\n",
    "print(\"List of random numbers:\", random_numbers)\n"
   ]
  },
  {
   "cell_type": "code",
   "execution_count": null,
   "id": "26893107-9779-4328-ac63-cafe1a71432d",
   "metadata": {},
   "outputs": [],
   "source": [
    "# 20\n",
    "l=[1,1,2,2,3,4,5,5,6,6,6,7]\n",
    "unique_list = list(set(l))\n",
    "print(\"List after removing duplicates:\", unique_list)\n"
   ]
  },
  {
   "cell_type": "code",
   "execution_count": null,
   "id": "eb8631a5-c986-4e5a-975c-df524b0bcde8",
   "metadata": {},
   "outputs": [],
   "source": [
    "# 21\n",
    "list1 = [1, 2, 3, 4, 5]\n",
    "list2 = [3, 4, 5, 6, 7]\n",
    "common_elements = [x for x in list1 if x in list2]\n",
    "print(common_elements)\n"
   ]
  },
  {
   "cell_type": "code",
   "execution_count": null,
   "id": "d3552c7c-c960-4a9c-92a2-45411f6ac1b5",
   "metadata": {},
   "outputs": [],
   "source": [
    "# 22\n",
    "list1 = [1, 2, 3, 4, 5]\n",
    "list2 = [3, 4, 5, 6, 7]\n",
    "difference = [x for x in list1 if x not in list2]\n",
    "print(difference)\n"
   ]
  },
  {
   "cell_type": "code",
   "execution_count": null,
   "id": "a428a392-5eb9-43a4-b1c7-eba0493643cd",
   "metadata": {},
   "outputs": [],
   "source": [
    "# 23\n",
    "list1 = [1, 2, 3]\n",
    "list2 = [4, 5, 6]\n",
    "merged_list = list1 + list2\n",
    "print(merged_list)\n"
   ]
  },
  {
   "cell_type": "code",
   "execution_count": null,
   "id": "9555c994-1e85-4282-b728-843844786b4c",
   "metadata": {},
   "outputs": [],
   "source": [
    "# 24\n",
    "numbers = [1, 2, 3, 4, 5]\n",
    "doubled_numbers = [x * 2 for x in numbers]\n",
    "print(doubled_numbers)\n"
   ]
  },
  {
   "cell_type": "code",
   "execution_count": null,
   "id": "af89d0f9-a708-41c7-90be-bdacababdf7e",
   "metadata": {},
   "outputs": [],
   "source": [
    "# 25\n",
    "numbers = [1, 2, 3, 4, 5, 6]\n",
    "odd_numbers = [x for x in numbers if x % 2 != 0]\n",
    "print(odd_numbers)\n"
   ]
  },
  {
   "cell_type": "code",
   "execution_count": null,
   "id": "6a0a9622-a64a-4ae8-8760-94d7a570dccd",
   "metadata": {},
   "outputs": [],
   "source": [
    "# 26\n",
    "str_numbers = [\"1\", \"2\", \"3\", \"4\", \"5\"]\n",
    "int_numbers = [int(x) for x in str_numbers]\n",
    "print(int_numbers)\n"
   ]
  },
  {
   "cell_type": "code",
   "execution_count": null,
   "id": "1e16bc13-1702-4be9-a2ca-0a573701e1ee",
   "metadata": {},
   "outputs": [],
   "source": [
    "# 27\n",
    "int_numbers = [1, 2, 3, 4, 5]\n",
    "str_numbers = [str(x) for x in int_numbers]\n",
    "print(str_numbers)\n"
   ]
  },
  {
   "cell_type": "code",
   "execution_count": null,
   "id": "5c74a577-a105-4780-ba9c-4654b9c3ca6b",
   "metadata": {},
   "outputs": [],
   "source": [
    "# 28\n",
    "nested_list = [[1, 2, 3], [4, 5], [6]]\n",
    "flattened_list = [x for sublist in nested_list for x in sublist]\n",
    "print(flattened_list)\n"
   ]
  },
  {
   "cell_type": "code",
   "execution_count": null,
   "id": "36faa79c-494f-4078-be35-f313ef68dbf6",
   "metadata": {},
   "outputs": [],
   "source": [
    "# 29\n",
    "fibonacci = [0, 1]\n",
    "while len(fibonacci) < 10:\n",
    "    next_num = fibonacci[-1] + fibonacci[-2]\n",
    "    fibonacci.append(next_num)\n",
    "print(fibonacci)\n"
   ]
  },
  {
   "cell_type": "code",
   "execution_count": null,
   "id": "cdbe9f8e-40ec-453c-981c-8fb7665825ce",
   "metadata": {},
   "outputs": [],
   "source": [
    "# 30\n",
    "numbers = [1, 2, 3, 4, 5]\n",
    "a=sorted(numbers)\n",
    "if a==numbers:\n",
    "    print(\"List is sorted\")"
   ]
  },
  {
   "cell_type": "code",
   "execution_count": null,
   "id": "8e82ff9e-6943-469a-a2a4-fce3242d85c5",
   "metadata": {},
   "outputs": [],
   "source": [
    "# 31\n",
    "n = 2\n",
    "numbers = [1, 2, 3, 4, 5]\n",
    "rotated_list = numbers[n:] + numbers[:n]\n",
    "print(rotated_list)\n"
   ]
  },
  {
   "cell_type": "code",
   "execution_count": null,
   "id": "659ea8be-2cac-4b34-a672-4ef9d07ec8af",
   "metadata": {},
   "outputs": [],
   "source": [
    "# 32\n",
    "n = 2\n",
    "numbers = [1, 2, 3, 4, 5]\n",
    "rotated_list = numbers[-n:] + numbers[:-n]\n",
    "print(rotated_list)\n"
   ]
  },
  {
   "cell_type": "code",
   "execution_count": null,
   "id": "a30b67d4-5189-4005-b304-ef4439e92407",
   "metadata": {},
   "outputs": [],
   "source": [
    "# 33\n",
    "primes = []\n",
    "for num in range(2, 51):\n",
    "    is_prime = True\n",
    "    for i in range(2, int(num ** 0.5) + 1):\n",
    "        if num % i == 0:\n",
    "            is_prime = False\n",
    "            break\n",
    "    if is_prime:\n",
    "        primes.append(num)\n",
    "print(primes)\n"
   ]
  },
  {
   "cell_type": "code",
   "execution_count": null,
   "id": "8d725e56-8807-48e9-93ad-fa221e4d66a5",
   "metadata": {},
   "outputs": [],
   "source": [
    "# 34\n",
    "n = 3\n",
    "numbers = [1, 2, 3, 4, 5, 6, 7, 8, 9]\n",
    "chunks = [numbers[i:i + n] for i in range(0, len(numbers), n)]\n",
    "print(chunks)"
   ]
  },
  {
   "cell_type": "code",
   "execution_count": null,
   "id": "bcf5633d-2f60-4fa2-9b35-fdf3598bc8f8",
   "metadata": {},
   "outputs": [],
   "source": [
    "# 35\n",
    "numbers = [1, 3, 2, 5, 4]\n",
    "sorted_numbers = sorted(numbers)\n",
    "second_largest = sorted_numbers[-2]\n",
    "print(second_largest)\n"
   ]
  },
  {
   "cell_type": "code",
   "execution_count": null,
   "id": "da84f8e8-027a-4050-ab64-913588c889c3",
   "metadata": {},
   "outputs": [],
   "source": [
    "# 36\n",
    "numbers = [1, 3, 2, 5, 4]\n",
    "sorted_numbers = sorted(numbers)\n",
    "second_largest = sorted_numbers[-2]\n",
    "print(second_largest)\n"
   ]
  },
  {
   "cell_type": "code",
   "execution_count": null,
   "id": "a0628fd9-d4eb-43d6-9322-40634eef638e",
   "metadata": {},
   "outputs": [],
   "source": [
    "# 37\n",
    "my_list = ['apple', 'banana', 'cherry']\n",
    "my_dict={i:my_list.index(i) for i in my_list}\n",
    "print(my_dict)\n"
   ]
  },
  {
   "cell_type": "code",
   "execution_count": null,
   "id": "87859ab5-a269-4bdf-86fd-809edb12ab78",
   "metadata": {},
   "outputs": [],
   "source": [
    "# 38\n",
    "import random\n",
    "numbers = [1, 2, 3, 4, 5]\n",
    "random.shuffle(numbers)\n",
    "print(numbers)"
   ]
  },
  {
   "cell_type": "code",
   "execution_count": null,
   "id": "6baee962-607f-4361-9dd2-1fbdf05a606a",
   "metadata": {},
   "outputs": [],
   "source": [
    "# 39\n",
    "factorials = [1]\n",
    "for i in range(1, 11):\n",
    "    factorials.append(factorials[-1] * i)\n",
    "print(factorials)"
   ]
  },
  {
   "cell_type": "code",
   "execution_count": null,
   "id": "d798f3f8-0f75-48c7-a809-931a77b8f6db",
   "metadata": {},
   "outputs": [],
   "source": [
    "# 40\n",
    "list1 = [1, 2, 3]\n",
    "list2 = [3, 4, 5]\n",
    "cl=[1 for i in list1 if i in list2]\n",
    "if len(cl)>0:\n",
    "    print(\"have_common_element\")"
   ]
  },
  {
   "cell_type": "code",
   "execution_count": null,
   "id": "146ba6e8-33bb-439b-a0ae-40eb60b11c99",
   "metadata": {},
   "outputs": [],
   "source": [
    "# 41\n",
    "my_list = [1, 2, 3, 4, 5]\n",
    "my_list.clear()\n",
    "print(my_list)\n"
   ]
  },
  {
   "cell_type": "code",
   "execution_count": null,
   "id": "4d79da58-404e-4ffa-843f-8560bb77003c",
   "metadata": {},
   "outputs": [],
   "source": [
    "# 42\n",
    "my_list = [1, -2, 3, -4, 5]\n",
    "my_list = [x if x >= 0 else 0 for x in my_list]\n",
    "print(my_list)\n"
   ]
  },
  {
   "cell_type": "code",
   "execution_count": null,
   "id": "e8240b02-8506-47ab-9570-f24f6ea2dd6b",
   "metadata": {},
   "outputs": [],
   "source": [
    "# 43\n",
    "my_string = \"Hello World\"\n",
    "word_list = my_string.split()\n",
    "print(word_list)\n"
   ]
  },
  {
   "cell_type": "code",
   "execution_count": null,
   "id": "86585ba6-eb48-4cdd-8b23-253762b5db5a",
   "metadata": {},
   "outputs": [],
   "source": [
    "# 44\n",
    "word_list = [\"Hello\", \"World\"]\n",
    "my_string = \" \".join(word_list)\n",
    "print(my_string)\n"
   ]
  },
  {
   "cell_type": "code",
   "execution_count": null,
   "id": "d36b665d-7099-49e5-aa1a-ce40746d375d",
   "metadata": {},
   "outputs": [],
   "source": [
    "# 45\n",
    "n = 5\n",
    "powers_of_2 = [2 ** i for i in range(n)]\n",
    "print(powers_of_2)\n"
   ]
  },
  {
   "cell_type": "code",
   "execution_count": null,
   "id": "402dba46-2c4e-4338-a5cc-bf002ed0a2b3",
   "metadata": {},
   "outputs": [],
   "source": [
    "# 46\n",
    "string_list = [\"apple\", \"banana\", \"kiwi\"]\n",
    "longest_string = max(string_list, key=len)\n",
    "print(longest_string)\n"
   ]
  },
  {
   "cell_type": "code",
   "execution_count": null,
   "id": "7d987cce-680a-4c7a-bfa1-c123888e5171",
   "metadata": {},
   "outputs": [],
   "source": [
    "# 47\n",
    "string_list = [\"apple\", \"banana\", \"kiwi\", \"orange\"]\n",
    "shortest_string = min(string_list, key=len)\n",
    "print(shortest_string)\n"
   ]
  },
  {
   "cell_type": "code",
   "execution_count": null,
   "id": "4ec2a59b-dd08-4431-866d-8d15fd2b7c70",
   "metadata": {},
   "outputs": [],
   "source": [
    "# 48\n",
    "n = 5\n",
    "triangular_numbers = [i * (i + 1) // 2 for i in range(1, n + 1)]\n",
    "print(triangular_numbers)\n"
   ]
  },
  {
   "cell_type": "code",
   "execution_count": null,
   "id": "0c220be2-0807-4530-90b5-5b290ea69ee2",
   "metadata": {},
   "outputs": [],
   "source": [
    "# 49\n",
    "list1 = [1, 2, 3, 4, 5]\n",
    "list2 = [2, 3, 4]\n",
    "is_subsequence = all(x in list1 for x in list2)\n",
    "print(is_subsequence)\n"
   ]
  },
  {
   "cell_type": "code",
   "execution_count": null,
   "id": "6166c9a4-bf37-4b7e-81b5-8b23d3d8e50d",
   "metadata": {},
   "outputs": [],
   "source": [
    "# 50\n",
    "my_list = [1, 2, 3, 4, 5]\n",
    "index1, index2 = 1, 3\n",
    "my_list[index1], my_list[index2] = my_list[index2], my_list[index1]\n",
    "print(my_list)\n"
   ]
  },
  {
   "cell_type": "raw",
   "id": "62f26647-8326-4cbb-be70-65729ecd9b28",
   "metadata": {},
   "source": [
    "TUPLE BASED QUESTIONS"
   ]
  },
  {
   "cell_type": "code",
   "execution_count": null,
   "id": "b0211982-f058-4b4f-9a7f-f7a14def8918",
   "metadata": {},
   "outputs": [],
   "source": [
    "# 1\n",
    "my_tuple = (1, 2, 3, 4, 5)\n"
   ]
  },
  {
   "cell_type": "code",
   "execution_count": null,
   "id": "ccc8e461-e6b8-4fff-b980-6271caaa5a59",
   "metadata": {},
   "outputs": [],
   "source": [
    "# 2\n",
    "my_tuple = (1, 2, 3, 4, 5)\n",
    "third_element = my_tuple[2]\n",
    "print(third_element)"
   ]
  },
  {
   "cell_type": "code",
   "execution_count": null,
   "id": "0f29af99-dd1f-4478-a585-4f022453e503",
   "metadata": {},
   "outputs": [],
   "source": [
    "# 3\n",
    "my_tuple = (1, 2, 3, 4, 5)\n",
    "tuple_length = 0\n",
    "for _ in my_tuple:\n",
    "    tuple_length += 1\n",
    "print(tuple_length)"
   ]
  },
  {
   "cell_type": "code",
   "execution_count": null,
   "id": "2b0c9359-aa1a-43c8-bf8e-852940d11b77",
   "metadata": {},
   "outputs": [],
   "source": [
    "# 4\n",
    "my_tuple = (1, 2, 3, 4, 5)\n",
    "count_element = my_tuple.count(3)\n",
    "print(count_element)"
   ]
  },
  {
   "cell_type": "code",
   "execution_count": null,
   "id": "95957692-819e-49c0-bb26-811e1898dfa0",
   "metadata": {},
   "outputs": [],
   "source": [
    "# 5\n",
    "my_tuple = (1, 2, 3, 4, 5)\n",
    "index_element = my_tuple.index(4)\n",
    "print(index_element)"
   ]
  },
  {
   "cell_type": "code",
   "execution_count": null,
   "id": "4e635faf-92f9-45ba-90a4-65caa3130ba6",
   "metadata": {},
   "outputs": [],
   "source": [
    "# 6\n",
    "my_tuple = (1, 2, 3, 4, 5)\n",
    "element_to_check = 2\n",
    "element_exists = element_to_check in my_tuple\n",
    "print(element_exists)\n"
   ]
  },
  {
   "cell_type": "code",
   "execution_count": null,
   "id": "ea53a46f-3c45-4a3c-8a25-db80630bb897",
   "metadata": {},
   "outputs": [],
   "source": [
    "# 7\n",
    "my_tuple = (1, 2, 3, 4, 5)\n",
    "tuple_as_list = list(my_tuple)\n",
    "print(tuple_as_list)\n"
   ]
  },
  {
   "cell_type": "code",
   "execution_count": null,
   "id": "3c1d62ab-6387-4692-8c88-bead57514390",
   "metadata": {},
   "outputs": [],
   "source": [
    "# 8\n",
    "my_list = [1, 2, 3, 4, 5]\n",
    "list_as_tuple = tuple(my_list)\n",
    "print(list_as_tuple)\n",
    "\n"
   ]
  },
  {
   "cell_type": "code",
   "execution_count": null,
   "id": "2df05dd5-e78c-44e6-a0b9-df0614076ae8",
   "metadata": {},
   "outputs": [],
   "source": [
    "# 9\n",
    "my_tuple = (1, 2, 3, 4, 5)\n",
    "a, b, c, d, e = my_tuple\n",
    "print(a, b, c, d, e)\n"
   ]
  },
  {
   "cell_type": "code",
   "execution_count": null,
   "id": "6fd79c08-9683-471d-b428-d63118e9d777",
   "metadata": {},
   "outputs": [],
   "source": [
    "# 10\n",
    "even_numbers = tuple(range(2, 11, 2))\n",
    "print(even_numbers)\n"
   ]
  },
  {
   "cell_type": "code",
   "execution_count": null,
   "id": "b93fbdea-b0a9-4774-a3a1-10bd8e2bdc0e",
   "metadata": {},
   "outputs": [],
   "source": [
    "# 11\n",
    "odd_numbers = tuple(range(1, 11, 2))\n",
    "print(odd_numbers)\n"
   ]
  },
  {
   "cell_type": "code",
   "execution_count": null,
   "id": "8d00034e-b2df-4536-b8b1-7f6154a2af8f",
   "metadata": {},
   "outputs": [],
   "source": [
    "# 12\n",
    "my_tuple = (1, 2, 3, 4, 5)\n",
    "even_numbers = (2, 4, 6, 8, 10)\n",
    "concatenated_tuple = my_tuple + even_numbers\n",
    "print(concatenated_tuple)\n"
   ]
  },
  {
   "cell_type": "code",
   "execution_count": null,
   "id": "2fb1eecf-a96d-4f06-bc5a-83b01840aa05",
   "metadata": {},
   "outputs": [],
   "source": [
    "# 13\n",
    "my_tuple = (1, 2, 3, 4, 5)\n",
    "repeated_tuple = my_tuple * 3\n",
    "print(repeated_tuple)\n"
   ]
  },
  {
   "cell_type": "code",
   "execution_count": null,
   "id": "4d7e3ffd-d417-4cc7-847c-e229f67ffd91",
   "metadata": {},
   "outputs": [],
   "source": [
    "# 14\n",
    "empty_tuple = ()\n",
    "is_empty = len(empty_tuple) == 0\n",
    "print(is_empty)\n"
   ]
  },
  {
   "cell_type": "code",
   "execution_count": null,
   "id": "35a2a955-d187-48ac-b651-b75fce270f5f",
   "metadata": {},
   "outputs": [],
   "source": [
    "# 15\n",
    "nested_tuple = ((1, 2), (3, 4), (5, 6))\n",
    "print(nested_tuple)\n"
   ]
  },
  {
   "cell_type": "code",
   "execution_count": null,
   "id": "96bde38d-d5eb-465b-bf4c-1b71336d92b8",
   "metadata": {},
   "outputs": [],
   "source": [
    "# 16\n",
    "nested_tuple = ((1, 2), (3, 4), (5, 6))\n",
    "first_element_nested_tuple = nested_tuple[0][0]\n",
    "print(first_element_nested_tuple)\n"
   ]
  },
  {
   "cell_type": "code",
   "execution_count": null,
   "id": "5aea5809-659a-4aeb-97ee-e30f208c2849",
   "metadata": {},
   "outputs": [],
   "source": [
    "# 17\n",
    "single_element_tuple = (42,)\n",
    "print(single_element_tuple)\n"
   ]
  },
  {
   "cell_type": "code",
   "execution_count": null,
   "id": "2635ba3b-cf16-4fda-a5b4-2561e7a8e031",
   "metadata": {},
   "outputs": [],
   "source": [
    "# 18\n",
    "comparison_result = (1, 2, 3) == (1, 2, 4)\n",
    "print(comparison_result)\n"
   ]
  },
  {
   "cell_type": "code",
   "execution_count": null,
   "id": "574047b5-e8f1-46b2-bcd4-93d2fc7eb8c4",
   "metadata": {},
   "outputs": [],
   "source": [
    "# 19\n",
    "my_tuple = (1, 2, 3, 4, 5)\n",
    "del my_tuple\n",
    "# Print statement omitted as the tuple is deleted and cannot be printed.\n"
   ]
  },
  {
   "cell_type": "code",
   "execution_count": null,
   "id": "bc53f6df-136c-4c15-bb7a-902e99aa18ac",
   "metadata": {},
   "outputs": [],
   "source": [
    "# 20\n",
    "my_tuple = (1, 2, 3, 4, 5)\n",
    "sliced_tuple = my_tuple[2:7]\n",
    "print(sliced_tuple)\n"
   ]
  },
  {
   "cell_type": "code",
   "execution_count": null,
   "id": "49c54028-dfcf-421c-a996-ad49550d455d",
   "metadata": {},
   "outputs": [],
   "source": [
    "# 21\n",
    "my_tuple = (3, 7, 1, 9, 5)\n",
    "max_value = max(my_tuple)\n",
    "print(\"Maximum value in the tuple:\", max_value)\n"
   ]
  },
  {
   "cell_type": "code",
   "execution_count": null,
   "id": "40bf0c87-c47c-4edf-9328-f9900d11d412",
   "metadata": {},
   "outputs": [],
   "source": [
    "# 22\n",
    "my_tuple = (3, 7, 1, 9, 5)\n",
    "min_value = min(my_tuple)\n",
    "print(\"Minimum value in the tuple:\", min_value)\n"
   ]
  },
  {
   "cell_type": "code",
   "execution_count": null,
   "id": "11dff285-c615-46d7-9d57-ccc203393952",
   "metadata": {},
   "outputs": [],
   "source": [
    "# 23\n",
    "my_string = \"hello\"\n",
    "char_tuple = tuple(my_string)\n",
    "print(\"Tuple of characters:\", char_tuple)\n"
   ]
  },
  {
   "cell_type": "code",
   "execution_count": null,
   "id": "52c776dd-8298-4a3d-b7c6-583a190e7e0e",
   "metadata": {},
   "outputs": [],
   "source": [
    "# 24\n",
    "my_tuple = ('h', 'e', 'l', 'l', 'o')\n",
    "str_value = ''.join(my_tuple)\n",
    "print(\"String from tuple:\", str_value)\n"
   ]
  },
  {
   "cell_type": "code",
   "execution_count": null,
   "id": "a17298e6-26eb-49dc-8380-20ab0c7d1c30",
   "metadata": {},
   "outputs": [],
   "source": [
    "# 25\n",
    "my_tuple = (1, \"hello\", 3.14, True)\n",
    "print(\"Tuple with multiple data types:\", my_tuple)\n"
   ]
  },
  {
   "cell_type": "code",
   "execution_count": null,
   "id": "625f510d-8e30-4f0a-b2bf-2916ce4eafe2",
   "metadata": {},
   "outputs": [],
   "source": [
    "# 26\n",
    "tuple1 = (1, 2, 3)\n",
    "tuple2 = (1, 2, 3)\n",
    "are_identical = tuple1 == tuple2\n",
    "print(\"Are the tuples identical:\", are_identical)\n"
   ]
  },
  {
   "cell_type": "code",
   "execution_count": null,
   "id": "bbf1e8b6-7f21-497e-808c-a94b2fb6d6f7",
   "metadata": {},
   "outputs": [],
   "source": [
    "# 27\n",
    "my_tuple = (5, 2, 8, 1, 3)\n",
    "sorted_tuple = tuple(sorted(my_tuple))\n",
    "print(\"Sorted tuple:\", sorted_tuple)\n"
   ]
  },
  {
   "cell_type": "code",
   "execution_count": null,
   "id": "164030bf-b6a5-4f8a-a2d4-17fbe1291544",
   "metadata": {},
   "outputs": [],
   "source": [
    "# 28\n",
    "my_tuple = (1, 2, 3, 4, 5)\n",
    "str_tuple = tuple(str(x) for x in my_tuple)\n",
    "print(\"Tuple of strings:\", str_tuple)\n"
   ]
  },
  {
   "cell_type": "code",
   "execution_count": null,
   "id": "57e751a4-8c7b-4f9c-8756-79db533c7dc8",
   "metadata": {},
   "outputs": [],
   "source": [
    "# 29\n",
    "my_tuple = (\"1\", \"2\", \"3\", \"4\", \"5\")\n",
    "int_tuple = tuple(int(x) for x in my_tuple)\n",
    "print(\"Tuple of integers:\", int_tuple)\n"
   ]
  },
  {
   "cell_type": "code",
   "execution_count": null,
   "id": "2ec4f57f-68af-4ba0-9a5e-7f5e5c0f1068",
   "metadata": {},
   "outputs": [],
   "source": [
    "# 30\n",
    "tuple1 = (1, 2, 3)\n",
    "tuple2 = (4, 5, 6)\n",
    "merged_tuple = tuple1 + tuple2\n",
    "print(\"Merged tuple:\", merged_tuple)\n"
   ]
  },
  {
   "cell_type": "code",
   "execution_count": null,
   "id": "5cce516b-4714-4802-a847-a5490e55d992",
   "metadata": {},
   "outputs": [],
   "source": [
    "# 31\n",
    "nested_tuple = ((1, 2), (3, 4), (5, 6))\n",
    "flattened_tuple = tuple(item for sublist in nested_tuple for item in sublist)\n",
    "print(\"Flattened tuple:\", flattened_tuple)\n"
   ]
  },
  {
   "cell_type": "code",
   "execution_count": null,
   "id": "122550a7-9a95-4eb1-8b43-c8b230670030",
   "metadata": {},
   "outputs": [],
   "source": [
    "# 32\n",
    "prime_numbers = (2, 3, 5, 7, 11)\n",
    "print(\"Tuple of first 5 prime numbers:\", prime_numbers)\n"
   ]
  },
  {
   "cell_type": "code",
   "execution_count": null,
   "id": "db352270-f439-429d-a169-ff0fb5b00a5e",
   "metadata": {},
   "outputs": [],
   "source": [
    "# 33\n",
    "my_tuple = (1, 2, 3, 2, 1)\n",
    "is_palindrome = my_tuple == my_tuple[::-1]\n",
    "print(\"Is the tuple a palindrome:\", is_palindrome)\n"
   ]
  },
  {
   "cell_type": "code",
   "execution_count": null,
   "id": "c5416984-cfe4-47a3-a3c0-0736cdade183",
   "metadata": {},
   "outputs": [],
   "source": [
    "# 34\n",
    "squares_tuple = tuple(x**2 for x in range(1, 6))\n",
    "print(\"Tuple of squares:\", squares_tuple)\n"
   ]
  },
  {
   "cell_type": "code",
   "execution_count": null,
   "id": "6e39d7af-3eef-4303-8624-8436e39ccd9b",
   "metadata": {},
   "outputs": [],
   "source": [
    "# 35\n",
    "my_tuple = (1, 2, 3, 4, 5, 6, 7, 8, 9)\n",
    "filtered_tuple = tuple(x for x in my_tuple if x % 2 != 0)\n",
    "print(\"Tuple with odd numbers:\", filtered_tuple)\n"
   ]
  },
  {
   "cell_type": "code",
   "execution_count": null,
   "id": "8fc9635c-02af-4a56-9a1e-d922895fc68a",
   "metadata": {},
   "outputs": [],
   "source": [
    "# 36\n",
    "my_tuple = (1, 2, 3, 4, 5)\n",
    "doubled_tuple = tuple(x * 2 for x in my_tuple)\n",
    "print(\"Tuple with elements multiplied by 2:\", doubled_tuple)\n"
   ]
  },
  {
   "cell_type": "code",
   "execution_count": null,
   "id": "7b1bee86-cd21-4059-872f-76dada6e5180",
   "metadata": {},
   "outputs": [],
   "source": [
    "# 37\n",
    "import random\n",
    "random_numbers = tuple(random.randint(1, 100) for _ in range(5))\n",
    "print(\"Tuple of random numbers:\", random_numbers)\n"
   ]
  },
  {
   "cell_type": "code",
   "execution_count": null,
   "id": "246e6241-362e-4aca-a075-dd469d6c5627",
   "metadata": {},
   "outputs": [],
   "source": [
    "# 38\n",
    "my_tuple = (1, 3, 5, 2, 4)\n",
    "is_sorted = my_tuple == tuple(sorted(my_tuple))\n",
    "print(\"Is the tuple sorted:\", is_sorted)\n"
   ]
  },
  {
   "cell_type": "code",
   "execution_count": null,
   "id": "6624c401-996e-4055-ba56-9042a559ad5c",
   "metadata": {},
   "outputs": [],
   "source": [
    "# 39\n",
    "my_tuple = (1, 2, 3, 4, 5)\n",
    "n = 2\n",
    "rotated_tuple = my_tuple[n:] + my_tuple[:n]\n",
    "print(f\"Tuple rotated to the left by {n} positions:\", rotated_tuple)\n"
   ]
  },
  {
   "cell_type": "code",
   "execution_count": null,
   "id": "05ae44e2-ba19-48fa-aa2a-8e7e67c7d19f",
   "metadata": {},
   "outputs": [],
   "source": [
    "# 40\n",
    "my_tuple = (1, 2, 3, 4, 5)\n",
    "n = 2\n",
    "rotated_tuple = my_tuple[-n:] + my_tuple[:-n]\n",
    "print(f\"Tuple rotated to the right by {n} positions:\", rotated_tuple)\n"
   ]
  },
  {
   "cell_type": "code",
   "execution_count": null,
   "id": "3886711b-77ff-4229-89a1-e5ed720d8203",
   "metadata": {},
   "outputs": [],
   "source": [
    "# 41\n",
    "fibonacci_tuple = (0, 1, 1, 2, 3)\n",
    "print(\"Tuple of first 5 Fibonacci numbers:\", fibonacci_tuple)\n"
   ]
  },
  {
   "cell_type": "code",
   "execution_count": null,
   "id": "82387dd7-a50b-457c-bb49-dcef5b6b0907",
   "metadata": {},
   "outputs": [],
   "source": [
    "# 42\n",
    "user_input = input(\"Enter elements separated by space: \")\n",
    "my_tuple = tuple(user_input.split())\n",
    "print(\"Tuple from user input:\", my_tuple)\n"
   ]
  },
  {
   "cell_type": "code",
   "execution_count": null,
   "id": "fcf78d77-a56f-4b00-b2cb-6312c71c864d",
   "metadata": {},
   "outputs": [],
   "source": [
    "# 43\n",
    "my_tuple = (1, 2, 3, 4, 5)\n",
    "index1, index2 = 1, 3\n",
    "list_tuple = list(my_tuple)\n",
    "list_tuple[index1], list_tuple[index2] = list_tuple[index2], list_tuple[index1]\n",
    "swapped_tuple = tuple(list_tuple)\n",
    "print(f\"Tuple after swapping elements at index {index1} and {index2}:\", swapped_tuple)\n"
   ]
  },
  {
   "cell_type": "code",
   "execution_count": null,
   "id": "6d9847d1-4e00-4553-a240-87e172f5db75",
   "metadata": {},
   "outputs": [],
   "source": [
    "# 44\n",
    "my_tuple = (1, 2, 3, 4, 5)\n",
    "reversed_tuple = my_tuple[::-1]\n",
    "print(\"Reversed tuple:\", reversed_tuple)\n"
   ]
  },
  {
   "cell_type": "code",
   "execution_count": null,
   "id": "d748f790-a14e-410d-a6f3-0aff6c4a145e",
   "metadata": {},
   "outputs": [],
   "source": [
    "# 45\n",
    "n = 5\n",
    "powers_of_2 = tuple(2**i for i in range(1, n+1))\n",
    "print(f\"Tuple of the first {n} powers of 2:\", powers_of_2)\n"
   ]
  },
  {
   "cell_type": "code",
   "execution_count": null,
   "id": "9e87aba3-af58-422a-8dee-2f24e693a159",
   "metadata": {},
   "outputs": [],
   "source": [
    "# 46\n",
    "my_tuple = (\"apple\", \"banana\", \"orange\", \"strawberry\")\n",
    "longest_string = max(my_tuple, key=len)\n",
    "print(\"Longest string in the tuple:\", longest_string)\n"
   ]
  },
  {
   "cell_type": "code",
   "execution_count": null,
   "id": "254e6803-998b-47da-b99f-0947a4392a74",
   "metadata": {},
   "outputs": [],
   "source": [
    "# 47\n",
    "my_tuple = (\"apple\", \"banana\", \"orange\", \"strawberry\")\n",
    "shortest_string = min(my_tuple, key=len)\n",
    "print(\"Shortest string in the tuple:\", shortest_string)\n"
   ]
  },
  {
   "cell_type": "code",
   "execution_count": null,
   "id": "6db15d88-7eea-4edd-bf36-9579758e2165",
   "metadata": {},
   "outputs": [],
   "source": [
    "# 48\n",
    "n = 5\n",
    "triangular_numbers = tuple(i * (i + 1) // 2 for i in range(1, n+1))\n",
    "print(f\"Tuple of the first {n} triangular numbers:\", triangular_numbers)\n"
   ]
  },
  {
   "cell_type": "code",
   "execution_count": null,
   "id": "30461fd6-0857-42f4-946d-08aec23821ad",
   "metadata": {},
   "outputs": [],
   "source": [
    "# 49\n",
    "main_tuple = (1, 2, 3, (4, 5), 6, 7)\n",
    "sub_tuple = (4, 5)\n",
    "is_subsequence = any(sub_tuple == main_tuple[i:i+len(sub_tuple)] for i in range(len(main_tuple) - len(sub_tuple) + 1))\n",
    "print(\"Does the main tuple contain the sub tuple as a subsequence:\", is_subsequence)\n"
   ]
  },
  {
   "cell_type": "code",
   "execution_count": null,
   "id": "50cec5f3-f9fc-4aab-8751-86b2af829745",
   "metadata": {},
   "outputs": [],
   "source": [
    "# 50\n",
    "n = 6\n",
    "alternating_tuple = tuple(1 if i % 2 == 0 else 0 for i in range(n))\n",
    "print(f\"Tuple of alternating 1s and 0s of length {n}:\", alternating_tuple)\n"
   ]
  },
  {
   "cell_type": "raw",
   "id": "e3b4b36d-701f-4077-bd82-715ecbf5e20d",
   "metadata": {},
   "source": [
    "SETS BASED QUESTIONS"
   ]
  },
  {
   "cell_type": "code",
   "execution_count": null,
   "id": "4f59ef41-71ae-4070-8b3a-c8f18ed58f89",
   "metadata": {},
   "outputs": [],
   "source": [
    "# 1\n",
    "my_set = {1, 2, 3, 4, 5}\n",
    "print(\"Set with integers from 1 to 5:\", my_set)\n"
   ]
  },
  {
   "cell_type": "code",
   "execution_count": null,
   "id": "45a9750f-5387-4a67-b3db-8f5eeaba1fe3",
   "metadata": {},
   "outputs": [],
   "source": [
    "# 2\n",
    "my_set = {1, 2, 3, 4, 5}\n",
    "my_set.add(6)\n",
    "print(\"Set after adding element 6:\", my_set)\n"
   ]
  },
  {
   "cell_type": "code",
   "execution_count": null,
   "id": "55548517-8112-4d64-b811-006efc4d155e",
   "metadata": {},
   "outputs": [],
   "source": [
    "# 3\n",
    "my_set = {1, 2, 3, 4, 5}\n",
    "my_set.remove(3)\n",
    "print(\"Set after removing element 3:\", my_set)\n"
   ]
  },
  {
   "cell_type": "code",
   "execution_count": null,
   "id": "464918e6-75b6-4ac9-b774-61276ce2d0ea",
   "metadata": {},
   "outputs": [],
   "source": [
    "# 4 \n",
    "my_set = {1, 2, 3, 4, 5}\n",
    "element_exists = 4 in my_set\n",
    "print(\"Does 4 exist in the set?\", element_exists)\n"
   ]
  },
  {
   "cell_type": "code",
   "execution_count": null,
   "id": "f4151a2f-f9af-4af9-b802-8afd8312093e",
   "metadata": {},
   "outputs": [],
   "source": [
    "# 5\n",
    "my_set = {1, 2, 3, 4, 5}\n",
    "set_length = sum(1 for _ in my_set)\n",
    "print(\"Length of the set without using len():\", set_length)\n"
   ]
  },
  {
   "cell_type": "code",
   "execution_count": null,
   "id": "ccd66005-e581-4b09-aef1-a299162e56a2",
   "metadata": {},
   "outputs": [],
   "source": [
    "# 6\n",
    "my_set = {1, 2, 3, 4, 5}\n",
    "my_set.clear()\n",
    "print(\"Set after clearing all elements:\", my_set)\n"
   ]
  },
  {
   "cell_type": "code",
   "execution_count": null,
   "id": "cc49a70c-5a13-4e69-a213-dc07b15b2d3b",
   "metadata": {},
   "outputs": [],
   "source": [
    "# 7\n",
    "my_set = {x for x in range(1, 11) if x % 2 == 0}\n",
    "print(\"Set of even numbers from 1 to 10:\", my_set)\n"
   ]
  },
  {
   "cell_type": "code",
   "execution_count": null,
   "id": "a784e721-fb81-4997-8a47-1cbeb9905e57",
   "metadata": {},
   "outputs": [],
   "source": [
    "# 8\n",
    "my_set = {x for x in range(1, 11) if x % 2 != 0}\n",
    "print(\"Set of odd numbers from 1 to 10:\", my_set)\n"
   ]
  },
  {
   "cell_type": "code",
   "execution_count": null,
   "id": "a4b089e6-0fa3-431f-aa57-4555ef7d95a4",
   "metadata": {},
   "outputs": [],
   "source": [
    "# 9\n",
    "my_set = {1, 2, 3, 4, 5}\n",
    "other_set = {6, 7, 8}\n",
    "union_set = my_set.union(other_set)\n",
    "print(\"Union of the sets:\", union_set)\n"
   ]
  },
  {
   "cell_type": "code",
   "execution_count": null,
   "id": "ff995911-bb01-4c56-9ab9-9b9983ce09eb",
   "metadata": {},
   "outputs": [],
   "source": [
    "# 10\n",
    "my_set = {1, 2, 3, 4, 5}\n",
    "other_set = {6, 7, 8}\n",
    "intersection_set = my_set.intersection(other_set)\n",
    "print(\"Intersection of the sets:\", intersection_set)\n"
   ]
  },
  {
   "cell_type": "code",
   "execution_count": null,
   "id": "33e9e3d2-9d00-497d-947a-8be2963b6979",
   "metadata": {},
   "outputs": [],
   "source": [
    "# 11\n",
    "my_set = {1, 2, 3, 4, 5}\n",
    "other_set = {6, 7, 8}\n",
    "difference_set = my_set.difference(other_set)\n",
    "print(\"Difference between the sets:\", difference_set)\n"
   ]
  },
  {
   "cell_type": "code",
   "execution_count": null,
   "id": "07faf98f-93df-4813-ade5-85ae25342e35",
   "metadata": {},
   "outputs": [],
   "source": [
    "# 12\n",
    "my_set = {1, 2, 3, 4, 5}\n",
    "other_set = {6, 7, 8}\n",
    "is_subset = my_set.issubset(other_set)\n",
    "print(\"Is the first set a subset of the second set?\", is_subset)\n"
   ]
  },
  {
   "cell_type": "code",
   "execution_count": null,
   "id": "caa2487b-cffe-427c-b547-8c4b62c55bff",
   "metadata": {},
   "outputs": [],
   "source": [
    "# 13\n",
    "my_set = {1, 2, 3, 4, 5}\n",
    "other_set = {6, 7, 8}\n",
    "is_superset = my_set.issuperset(other_set)\n",
    "print(\"Is the first set a superset of the second set?\", is_superset)\n"
   ]
  },
  {
   "cell_type": "code",
   "execution_count": null,
   "id": "79f89764-cab1-46e6-a75a-3fb6172b2ed6",
   "metadata": {},
   "outputs": [],
   "source": [
    "# 14\n",
    "my_list = [1, 2, 3, 4, 5]\n",
    "my_set = set(my_list)\n",
    "print(\"Set from a list:\", my_set)\n"
   ]
  },
  {
   "cell_type": "code",
   "execution_count": null,
   "id": "376739dd-b963-431e-bdd1-cc5e5cf610be",
   "metadata": {},
   "outputs": [],
   "source": [
    "# 15\n",
    "my_set = {1, 2, 3, 4, 5}\n",
    "my_list = list(my_set)\n",
    "print(\"List from a set:\", my_list)\n"
   ]
  },
  {
   "cell_type": "code",
   "execution_count": null,
   "id": "5ad78a55-2093-4de2-9f83-abbb75434db4",
   "metadata": {},
   "outputs": [],
   "source": [
    "# 16\n",
    "my_set = {1, 2, 3, 4, 5}\n",
    "removed_element = my_set.pop()\n",
    "print(\"Removed element from the set:\", removed_element)\n"
   ]
  },
  {
   "cell_type": "code",
   "execution_count": null,
   "id": "0740fe82-5b67-4f68-9302-47bf092e9193",
   "metadata": {},
   "outputs": [],
   "source": [
    "# 17\n",
    "my_set = {1, 2, 3, 4, 5}\n",
    "my_set.pop()\n",
    "print(\"Set after popping an element:\", my_set)\n"
   ]
  },
  {
   "cell_type": "code",
   "execution_count": null,
   "id": "5aa7d49e-ebe5-4fe9-ab7c-d2a7523e9b68",
   "metadata": {},
   "outputs": [],
   "source": [
    "# 18\n",
    "my_set = {1, 2, 3, 4, 5}\n",
    "other_set = {6, 7, 8}\n",
    "no_common_elements = my_set.isdisjoint(other_set)\n",
    "print(\"Do the sets have no common elements?\", no_common_elements)\n"
   ]
  },
  {
   "cell_type": "code",
   "execution_count": null,
   "id": "68d37beb-0d33-444f-8727-74cded488572",
   "metadata": {},
   "outputs": [],
   "source": [
    "# 19\n",
    "my_set = {1, 2, 3, 4, 5}\n",
    "other_set = {6, 7, 8}\n",
    "symmetric_difference_set = my_set.symmetric_difference(other_set)\n",
    "print(\"Symmetric difference between the sets:\", symmetric_difference_set)\n"
   ]
  },
  {
   "cell_type": "code",
   "execution_count": null,
   "id": "7c0f116b-7f16-47e6-a95a-fa4d3f5fdb70",
   "metadata": {},
   "outputs": [],
   "source": [
    "# 20\n",
    "my_set = {1, 2, 3, 4, 5}\n",
    "other_set = {6, 7, 8}\n",
    "my_set.update(other_set)\n",
    "print(\"Set after updating with another set:\", my_set)\n"
   ]
  },
  {
   "cell_type": "code",
   "execution_count": null,
   "id": "111aef79-b52e-4c89-9805-557a1db60b36",
   "metadata": {},
   "outputs": [],
   "source": [
    "# 21\n",
    "my_set = {2, 3, 5, 7, 11}\n",
    "print(\"Set of the first 5 prime numbers:\", my_set)\n"
   ]
  },
  {
   "cell_type": "code",
   "execution_count": null,
   "id": "2dfe68ed-cf09-49f7-a761-5f558f392c24",
   "metadata": {},
   "outputs": [],
   "source": [
    "# 22\n",
    "my_set = {1, 2, 3, 4, 5}\n",
    "other_set = {6, 7, 8}\n",
    "is_identical = my_set == other_set\n",
    "print(\"Are the sets identical?\", is_identical)\n"
   ]
  },
  {
   "cell_type": "code",
   "execution_count": null,
   "id": "2f23ec4f-e150-4003-aa05-54050961fa62",
   "metadata": {},
   "outputs": [],
   "source": [
    "# 23\n",
    "my_set = {1, 2, 3, 4, 5}\n",
    "frozen_set = frozenset(my_set)\n",
    "print(\"Frozen set:\", frozen_set)\n"
   ]
  },
  {
   "cell_type": "code",
   "execution_count": null,
   "id": "4bfc902d-d7ea-49ee-8f3e-ae220497f6a7",
   "metadata": {},
   "outputs": [],
   "source": [
    "# 24\n",
    "my_set = {1, 2, 3, 4, 5}\n",
    "other_set = {6, 7, 8}\n",
    "is_disjoint = my_set.isdisjoint(other_set)\n",
    "print(\"Are the sets disjoint?\", is_disjoint)\n"
   ]
  },
  {
   "cell_type": "code",
   "execution_count": null,
   "id": "29c428cd-f105-4609-a9e1-6c61dd3d5130",
   "metadata": {},
   "outputs": [],
   "source": [
    "# 25\n",
    "my_set = {1, 2, 3, 4, 5}\n",
    "squares_set = {x*x for x in my_set}\n",
    "print(\"Set of squares of numbers from 1 to 5:\", squares_set)\n"
   ]
  },
  {
   "cell_type": "code",
   "execution_count": null,
   "id": "61a8b201-6fe8-4671-843c-150490f3cdeb",
   "metadata": {},
   "outputs": [],
   "source": [
    "# 26\n",
    "my_set = {1, 2, 3, 4, 5}\n",
    "even_numbers_set = {x for x in my_set if x % 2 == 0}\n",
    "print(\"Set with even numbers:\", even_numbers_set)\n"
   ]
  },
  {
   "cell_type": "code",
   "execution_count": null,
   "id": "17b96b56-efc9-4248-82ff-74741f97dddf",
   "metadata": {},
   "outputs": [],
   "source": [
    "# 27\n",
    "my_set = {1, 2, 3, 4, 5}\n",
    "doubled_set = {x*2 for x in my_set}\n",
    "print(\"Set with elements multiplied by 2:\", doubled_set)\n"
   ]
  },
  {
   "cell_type": "code",
   "execution_count": null,
   "id": "8f70b2c9-cf75-4fb3-93dc-c9eba3225045",
   "metadata": {},
   "outputs": [],
   "source": [
    "# 28\n",
    "import random\n",
    "random_set = {random.randint(1, 100) for _ in range(5)}\n",
    "print(\"Set of random numbers:\", random_set)\n"
   ]
  },
  {
   "cell_type": "code",
   "execution_count": null,
   "id": "f335db08-2d93-425d-920c-300614cbd7bd",
   "metadata": {},
   "outputs": [],
   "source": [
    "# 29\n",
    "my_set = {1, 2, 3, 4, 5}\n",
    "is_empty = not bool(my_set)\n",
    "print(\"Is the set empty?\", is_empty)\n"
   ]
  },
  {
   "cell_type": "code",
   "execution_count": null,
   "id": "84770022-fb8b-4366-8481-465a8c9d0597",
   "metadata": {},
   "outputs": [],
   "source": [
    "# 30\n",
    "my_set = {1, 2, 3, 4, 5}\n",
    "other_set = {6, 7, 8}\n",
    "nested_set = {frozenset(my_set), frozenset(other_set)}\n",
    "print(\"Nested set:\", nested_set)\n"
   ]
  },
  {
   "cell_type": "code",
   "execution_count": null,
   "id": "b293dd9a-c7ac-4687-a453-66cee2671195",
   "metadata": {},
   "outputs": [],
   "source": [
    "# 31\n",
    "my_set = {1, 2, 3, 4, 5}\n",
    "my_set.discard(5)\n",
    "print(\"Set after removing element 5 using discard:\", my_set)\n"
   ]
  },
  {
   "cell_type": "code",
   "execution_count": null,
   "id": "da141ac2-1305-4b5b-b28a-34724f3cefab",
   "metadata": {},
   "outputs": [],
   "source": [
    "# 32\n",
    "my_set = {1, 2, 3, 4, 5}\n",
    "other_set = {6, 7, 8}\n",
    "comparison_result = my_set > other_set  # Example comparison, can be any set comparison\n",
    "print(\"Comparison result:\", comparison_result)\n"
   ]
  },
  {
   "cell_type": "code",
   "execution_count": null,
   "id": "826aeea4-2439-4f19-a540-09631cee9390",
   "metadata": {},
   "outputs": [],
   "source": [
    "# 33\n",
    "string = \"hello\"\n",
    "string_set = set(string)\n",
    "print(\"Set from a string:\", string_set)\n"
   ]
  },
  {
   "cell_type": "code",
   "execution_count": null,
   "id": "a33fdbb4-ed6f-4d97-b818-f7995b80db28",
   "metadata": {},
   "outputs": [],
   "source": [
    "# 34\n",
    "string_set = {\"1\", \"2\", \"3\", \"4\", \"5\"}\n",
    "int_set = {int(x) for x in string_set}\n",
    "print(\"Set of integers from a set of strings:\", int_set)\n"
   ]
  },
  {
   "cell_type": "code",
   "execution_count": null,
   "id": "9a12b94e-c0e9-4c62-9a12-2cceb608ec98",
   "metadata": {},
   "outputs": [],
   "source": [
    "# 35\n",
    "my_set = {1, 2, 3, 4, 5}\n",
    "string_set = {str(x) for x in my_set}\n",
    "print(\"Set of strings from a set of integers:\", string_set)\n"
   ]
  },
  {
   "cell_type": "code",
   "execution_count": null,
   "id": "48e97662-23e6-4822-9798-9745f954dd84",
   "metadata": {},
   "outputs": [],
   "source": [
    "# 36\n",
    "my_tuple = (1, 2, 3, 4, 5)\n",
    "tuple_set = set(my_tuple)\n",
    "print(\"Set from a tuple:\", tuple_set)\n"
   ]
  },
  {
   "cell_type": "code",
   "execution_count": null,
   "id": "255cc1c5-1b45-4526-ac70-eafaea197601",
   "metadata": {},
   "outputs": [],
   "source": [
    "# 37\n",
    "my_set = {1, 2, 3, 4, 5}\n",
    "tuple_from_set = tuple(my_set)\n",
    "print(\"Tuple from a set:\", tuple_from_set)\n"
   ]
  },
  {
   "cell_type": "code",
   "execution_count": null,
   "id": "a5aa2dd3-5f45-45a6-81a0-d4366926252b",
   "metadata": {},
   "outputs": [],
   "source": [
    "# 38\n",
    "my_set = {1, 2, 3, 4, 5}\n",
    "max_value = max(my_set)\n",
    "print(\"Maximum value in the set:\", max_value)\n"
   ]
  },
  {
   "cell_type": "code",
   "execution_count": null,
   "id": "81acaa1d-4b3b-47bc-bfd4-1252dfeb616e",
   "metadata": {},
   "outputs": [],
   "source": [
    "# 39\n",
    "my_set = {1, 2, 3, 4, 5}\n",
    "min_value = min(my_set)\n",
    "print(\"Minimum value in the set:\", min_value)\n"
   ]
  },
  {
   "cell_type": "code",
   "execution_count": null,
   "id": "6c530940-9cec-4533-9081-3876e1ee943a",
   "metadata": {},
   "outputs": [],
   "source": [
    "# 40\n",
    "user_input = input(\"Enter elements separated by space: \")\n",
    "input_list = user_input.split()\n",
    "input_set = set(input_list)\n",
    "print(\"Set from user input:\", input_set)\n"
   ]
  },
  {
   "cell_type": "code",
   "execution_count": null,
   "id": "98726219-657c-4497-826a-59dcce83fb3a",
   "metadata": {},
   "outputs": [],
   "source": [
    "# 41\n",
    "my_set = {1, 2, 3, 4, 5}\n",
    "other_set = {6, 7, 8}\n",
    "intersection_empty = len(my_set.intersection(other_set)) == 0\n",
    "print(\"Is the intersection of the sets empty?\", intersection_empty)\n"
   ]
  },
  {
   "cell_type": "code",
   "execution_count": null,
   "id": "a1a08920-e45c-4cf6-9c41-3340952e703d",
   "metadata": {},
   "outputs": [],
   "source": [
    "# 42\n",
    "fibonacci_set = {0, 1, 1, 2, 3}\n",
    "print(\"Set of the first 5 Fibonacci numbers:\", fibonacci_set)\n"
   ]
  },
  {
   "cell_type": "code",
   "execution_count": null,
   "id": "8b303fc7-6901-440b-95e5-573910b9975d",
   "metadata": {},
   "outputs": [],
   "source": [
    "# 43\n",
    "my_list = [1, 2, 2, 3, 4, 4, 5]\n",
    "unique_list = list(set(my_list))\n",
    "print(\"List after removing duplicates using sets:\", unique_list)\n"
   ]
  },
  {
   "cell_type": "code",
   "execution_count": null,
   "id": "dbf71233-a4cb-49c9-bc7b-7a4928b24445",
   "metadata": {},
   "outputs": [],
   "source": [
    "# 44\n",
    "my_set = {1, 2, 3, 4, 5}\n",
    "other_set = {6, 7, 8}\n",
    "same_elements = my_set == other_set or my_set == other_set.union(my_set)\n",
    "print(\"Do the sets have the same elements?\", same_elements)\n"
   ]
  },
  {
   "cell_type": "code",
   "execution_count": null,
   "id": "4e197c49-022f-42b5-9f7b-b44cbf534cf9",
   "metadata": {},
   "outputs": [],
   "source": [
    "# 45\n",
    "n = 5\n",
    "powers_of_2_set = {2 ** i for i in range(1, n+1)}\n",
    "print(f\"Set of the first {n} powers of 2:\", powers_of_2_set)\n"
   ]
  },
  {
   "cell_type": "code",
   "execution_count": null,
   "id": "fa6e72e9-7730-4f74-ab71-fbb49288c374",
   "metadata": {},
   "outputs": [],
   "source": [
    "# 46\n",
    "my_set = {1, 2, 3, 4, 5}\n",
    "my_list = [1, 2, 2, 3, 4, 4, 5]\n",
    "common_elements = my_set.intersection(set(my_list))\n",
    "print(\"Common elements between the set and the list:\", common_elements)\n"
   ]
  },
  {
   "cell_type": "code",
   "execution_count": null,
   "id": "763bd94f-427d-40bd-b7bd-c05b3f5b8b9e",
   "metadata": {},
   "outputs": [],
   "source": [
    "# 47\n",
    "n = 5\n",
    "triangular_numbers_set = {i * (i + 1) // 2 for i in range(1, n+1)}\n",
    "print(f\"Set of the first {n} triangular numbers:\", triangular_numbers_set)\n"
   ]
  },
  {
   "cell_type": "code",
   "execution_count": null,
   "id": "a65afc8f-14a3-47a8-bf8a-cc235cbae931",
   "metadata": {},
   "outputs": [],
   "source": [
    "# 48\n",
    "my_set = {1, 2, 3, 4, 5}\n",
    "other_set = {6, 7, 8}\n",
    "is_subset = other_set.issubset(my_set)\n",
    "print(\"Is the second set a subset of the first set?\", is_subset)\n"
   ]
  },
  {
   "cell_type": "code",
   "execution_count": null,
   "id": "60ed63a1-28fe-4213-b160-c75effe203d8",
   "metadata": {},
   "outputs": [],
   "source": [
    "# 49\n",
    "n = 6\n",
    "alternating_set = {1 if i % 2 == 0 else 0 for i in range(n)}\n",
    "print(f\"Set of alternating 1s and 0s of length {n}:\", alternating_set)\n"
   ]
  },
  {
   "cell_type": "code",
   "execution_count": null,
   "id": "3f56bec6-8c8d-4413-8929-b42c220dc9d5",
   "metadata": {},
   "outputs": [],
   "source": [
    "# 50\n",
    "my_set = {1, 2, 3, 4, 5}\n",
    "other_set = {6, 7, 8}\n",
    "set1 = {1, 2, 3}\n",
    "set2 = {4, 5, 6}\n",
    "merged_set = set1.union(set2, my_set, other_set)\n",
    "print(\"Merged set:\", merged_set)\n"
   ]
  }
 ],
 "metadata": {
  "kernelspec": {
   "display_name": "Python 3 (ipykernel)",
   "language": "python",
   "name": "python3"
  },
  "language_info": {
   "codemirror_mode": {
    "name": "ipython",
    "version": 3
   },
   "file_extension": ".py",
   "mimetype": "text/x-python",
   "name": "python",
   "nbconvert_exporter": "python",
   "pygments_lexer": "ipython3",
   "version": "3.10.8"
  }
 },
 "nbformat": 4,
 "nbformat_minor": 5
}
